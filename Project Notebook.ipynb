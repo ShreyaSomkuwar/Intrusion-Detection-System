{
 "cells": [
  {
   "cell_type": "markdown",
   "metadata": {},
   "source": [
    "# ** Intrusion Detection System using kNN and ID3 on KDD cup data**"
   ]
  },
  {
   "cell_type": "markdown",
   "metadata": {},
   "source": [
    "## *Data Description*"
   ]
  },
  {
   "cell_type": "markdown",
   "metadata": {},
   "source": [
    "### **Attributes:**"
   ]
  },
  {
   "cell_type": "markdown",
   "metadata": {
    "collapsed": true
   },
   "source": [
    "duration: continuous.\n",
    "protocol_type: symbolic.\n",
    "service: symbolic.\n",
    "flag: symbolic.\n",
    "src_bytes: continuous.\n",
    "dst_bytes: continuous.\n",
    "land: symbolic.\n",
    "wrong_fragment: continuous.\n",
    "urgent: continuous.\n",
    "hot: continuous.\n",
    "num_failed_logins: continuous.\n",
    "logged_in: symbolic.\n",
    "num_compromised: continuous.\n",
    "root_shell: continuous.\n",
    "su_attempted: continuous.\n",
    "num_root: continuous.\n",
    "num_file_creations: continuous.\n",
    "num_shells: continuous.\n",
    "num_access_files: continuous.\n",
    "num_outbound_cmds: continuous.\n",
    "is_host_login: symbolic.\n",
    "is_guest_login: symbolic.\n",
    "count: continuous.\n",
    "srv_count: continuous.\n",
    "serror_rate: continuous.\n",
    "srv_serror_rate: continuous.\n",
    "rerror_rate: continuous.\n",
    "srv_rerror_rate: continuous.\n",
    "same_srv_rate: continuous.\n",
    "diff_srv_rate: continuous.\n",
    "srv_diff_host_rate: continuous.\n",
    "dst_host_count: continuous.\n",
    "dst_host_srv_count: continuous.\n",
    "dst_host_same_srv_rate: continuous.\n",
    "dst_host_diff_srv_rate: continuous.\n",
    "dst_host_same_src_port_rate: continuous.\n",
    "dst_host_srv_diff_host_rate: continuous.\n",
    "dst_host_serror_rate: continuous.\n",
    "dst_host_srv_serror_rate: continuous.\n",
    "dst_host_rerror_rate: continuous.\n",
    "dst_host_srv_rerror_rate: continuous."
   ]
  },
  {
   "cell_type": "markdown",
   "metadata": {},
   "source": [
    "### **Classes:**"
   ]
  },
  {
   "cell_type": "markdown",
   "metadata": {},
   "source": [
    "back,buffer_overflow,ftp_write,guess_passwd,imap,ipsweep,land,loadmodule,multihop,neptune,nmap,normal,perl,phf,pod,portsweep,rootkit,satan,smurf,spy,teardrop,warezclient,warezmaster."
   ]
  },
  {
   "cell_type": "markdown",
   "metadata": {},
   "source": [
    "## *Preprocessing*"
   ]
  },
  {
   "cell_type": "markdown",
   "metadata": {},
   "source": [
    "### **Identifing and Separating the target classes**"
   ]
  },
  {
   "cell_type": "code",
   "execution_count": null,
   "metadata": {
    "collapsed": true
   },
   "outputs": [],
   "source": [
    "train_X=open(\"train_X\",\"w\");\n",
    "train_y=open(\"train_y\",\"w\");\n",
    "test_X=open(\"test_X\",\"w\");\n",
    "test_y=open(\"test_y\",\"w\")\n",
    "\n",
    "X1=open(\"C:\\\\Users\\\\ASUS\\\\Documents\\\\Project\\\\kddcup.data_10_percent_corrected\",\"r\")\n",
    "X2=open(\"C:\\\\Users\\\\ASUS\\\\Documents\\\\Project\\\\corrected\",\"r\")\n",
    "lines1 = [line.rstrip('\\n\\r') for line in X1]\n",
    "lines2 = [line.rstrip('\\n\\r') for line in X2]\n",
    "\n",
    "\n",
    "for line in lines1:\n",
    "    line=str(line)\n",
    "    k=line.split(',')\n",
    "    i=k[41]\n",
    "    del k[41]\n",
    "    for j in range(41):\n",
    "        train_X.write(k[j])\n",
    "        if(j!=40):\n",
    "            train_X.write(',')\n",
    "    train_X.write(\"\\n\")\n",
    "    if i==\"back.\" or i==\"land.\" or i==\"neptune.\" or i==\"pod.\" or i==\"smurf.\" or i==\"teardrop.\" :\n",
    "        train_y.write(\"2\")\n",
    "    elif i==\"buffer_overflow.\" or i==\"loadmodule.\" or i==\"perl.\" or i==\"rootkit.\":\n",
    "        train_y.write(\"3\")\n",
    "    elif i==\"ftp_write.\" or \"guess_passwd.\" or i==\"imap.\" or i==\"multihop.\" or i==\"phf.\" or i==\"spy.\" or i==\"warezclient.\" or i==\"warezmaster.\":\n",
    "        train_y.write(\"4\")\n",
    "    elif i==\"ipsweep.\" or i==\"nmap.\" or i==\"portsweep.\" or i==\"satan.\" :\n",
    "        train_y.write(\"1\")\n",
    "    train_y.write(\"\\n\")\n",
    "    \n",
    "\n",
    "    \n",
    "    \n",
    "for line in lines2:\n",
    "    line=str(line)\n",
    "    k=line.split(',')\n",
    "    i=k[41]\n",
    "    del k[41]\n",
    "    for j in range(41):\n",
    "        test_X.write(k[j])\n",
    "        if(j!=40):\n",
    "            test_X.write(',')\n",
    "    test_X.write(\"\\n\")\n",
    "    if i==\"back.\" or i==\"land.\" or i==\"neptune.\" or i==\"pod.\" or i==\"smurf.\" or i==\"teardrop.\" :\n",
    "        test_y.write(\"2\")\n",
    "    elif i==\"buffer_overflow.\" or i==\"loadmodule.\" or i==\"perl.\" or i==\"rootkit.\":\n",
    "        test_y.write(\"3\")\n",
    "    elif i==\"ftp_write.\" or \"guess_passwd.\" or i==\"imap.\" or i==\"multihop.\" or i==\"phf.\" or i==\"spy.\" or i==\"warezclient.\" or i==\"warezmaster.\":\n",
    "        test_y.write(\"4\")\n",
    "    elif i==\"ipsweep.\" or i==\"nmap.\" or i==\"portsweep.\" or i==\"satan.\" :\n",
    "        test_y.write(\"1\")\n",
    "    test_y.write(\"\\n\")\n",
    "    \n"
   ]
  },
  {
   "cell_type": "markdown",
   "metadata": {},
   "source": [
    "### **Encoding for symbolic(string) attributes**"
   ]
  },
  {
   "cell_type": "code",
   "execution_count": 2,
   "metadata": {
    "collapsed": true
   },
   "outputs": [],
   "source": [
    "from sklearn import preprocessing\n",
    "import numpy as np\n",
    "import pandas as pd\n",
    "\n",
    "train_X=pd.read_csv(\"train_X\",header=None)\n",
    "x=open(\"train_y\")\n",
    "test_X=pd.read_csv(\"test_X\",header=None)\n",
    "y=open(\"test_y\")\n",
    "train_y = [line.rstrip('\\n\\r') for line in x]\n",
    "test_y = [line.rstrip('\\n\\r') for line in y]\n",
    "\n",
    "\n",
    "B=np.empty((494021, 41))\n",
    "C=np.empty((311029, 41))\n",
    "for i in range(41):\n",
    "    le = preprocessing.LabelEncoder()\n",
    "    A=train_X.iloc[:,i]\n",
    "    le.fit(A)\n",
    "    At=le.transform(A)\n",
    "    B[:,i]=At\n",
    "\n",
    "\n",
    "for i in range(41):\n",
    "    le = preprocessing.LabelEncoder()\n",
    "    A=test_X.iloc[:,i]\n",
    "    le.fit(A)\n",
    "    At=le.transform(A)\n",
    "    C[:,i]=At \n",
    "\n",
    "    "
   ]
  },
  {
   "cell_type": "code",
   "execution_count": 4,
   "metadata": {},
   "outputs": [
    {
     "name": "stdout",
     "output_type": "stream",
     "text": [
      "(494021, 41)\n",
      "(311029, 41)\n",
      "494021\n",
      "311029\n"
     ]
    }
   ],
   "source": [
    "print(B.shape)\n",
    "print(C.shape)\n",
    "print(len(train_y))\n",
    "print(len(test_y))"
   ]
  },
  {
   "cell_type": "markdown",
   "metadata": {},
   "source": [
    "# **kNN Implementation**"
   ]
  },
  {
   "cell_type": "code",
   "execution_count": 2,
   "metadata": {
    "collapsed": true
   },
   "outputs": [],
   "source": [
    "from sklearn.neighbors import KNeighborsClassifier\n",
    "from sklearn.metrics import confusion_matrix, zero_one_loss,accuracy_score,classification_report\n",
    "import pandas as pd\n",
    "\n",
    "learner = KNeighborsClassifier(1, n_jobs=-1)\n",
    "learner.fit(B, train_y)\n",
    "pred_y = learner.predict(C)\n"
   ]
  },
  {
   "cell_type": "markdown",
   "metadata": {},
   "source": [
    "### CONFUSION MATRIX FOR kNN"
   ]
  },
  {
   "cell_type": "code",
   "execution_count": 3,
   "metadata": {},
   "outputs": [
    {
     "name": "stdout",
     "output_type": "stream",
     "text": [
      "[[222787      7    504]\n",
      " [     0     10     29]\n",
      " [   498     65  87129]]\n"
     ]
    }
   ],
   "source": [
    "results_knn= confusion_matrix(test_y, pred_y)\n",
    "print(results_knn)"
   ]
  },
  {
   "cell_type": "markdown",
   "metadata": {},
   "source": [
    "### ZERO-ONE CLASSIFICATION LOSS FOR kNN"
   ]
  },
  {
   "cell_type": "code",
   "execution_count": 4,
   "metadata": {},
   "outputs": [
    {
     "name": "stdout",
     "output_type": "stream",
     "text": [
      "0.00354629311093\n"
     ]
    }
   ],
   "source": [
    "error_knn = zero_one_loss(test_y, pred_y)\n",
    "print(error_knn)"
   ]
  },
  {
   "cell_type": "markdown",
   "metadata": {},
   "source": [
    "### ACCURACY SCORE FOR kNN"
   ]
  },
  {
   "cell_type": "code",
   "execution_count": 5,
   "metadata": {},
   "outputs": [
    {
     "name": "stdout",
     "output_type": "stream",
     "text": [
      "0.996453706889\n"
     ]
    }
   ],
   "source": [
    "accuracy_knn=accuracy_score(test_y,pred_y)\n",
    "print(accuracy_knn)"
   ]
  },
  {
   "cell_type": "markdown",
   "metadata": {},
   "source": [
    "### REPORT MATRIX FOR kNN"
   ]
  },
  {
   "cell_type": "code",
   "execution_count": 6,
   "metadata": {},
   "outputs": [
    {
     "name": "stdout",
     "output_type": "stream",
     "text": [
      "             precision    recall  f1-score   support\n",
      "\n",
      "          2       1.00      1.00      1.00    223298\n",
      "          3       0.12      0.26      0.17        39\n",
      "          4       0.99      0.99      0.99     87692\n",
      "\n",
      "avg / total       1.00      1.00      1.00    311029\n",
      "\n"
     ]
    }
   ],
   "source": [
    "report_knn=classification_report(test_y,pred_y)\n",
    "print(report_knn)"
   ]
  },
  {
   "cell_type": "markdown",
   "metadata": {},
   "source": [
    "# ID3 Implementation"
   ]
  },
  {
   "cell_type": "code",
   "execution_count": 5,
   "metadata": {
    "collapsed": true
   },
   "outputs": [],
   "source": [
    "from sklearn import tree\n",
    "from sklearn.metrics import confusion_matrix, zero_one_loss,accuracy_score,classification_report\n",
    "\n",
    "clf = tree.DecisionTreeClassifier()\n",
    "clf = clf.fit(B, train_y)\n",
    "pred_y = clf.predict(C)\n"
   ]
  },
  {
   "cell_type": "markdown",
   "metadata": {},
   "source": [
    "### CONFUSION MATRIX FOR ID3"
   ]
  },
  {
   "cell_type": "code",
   "execution_count": 6,
   "metadata": {},
   "outputs": [
    {
     "name": "stdout",
     "output_type": "stream",
     "text": [
      "[[222171      0   1127]\n",
      " [     0      2     37]\n",
      " [   538     34  87120]]\n"
     ]
    }
   ],
   "source": [
    "results_id3 = confusion_matrix(test_y, pred_y)\n",
    "print(results_id3)"
   ]
  },
  {
   "cell_type": "markdown",
   "metadata": {},
   "source": [
    "### ZERO-ONE CLASSIFICATION LOSS FOR ID3"
   ]
  },
  {
   "cell_type": "code",
   "execution_count": 7,
   "metadata": {},
   "outputs": [
    {
     "name": "stdout",
     "output_type": "stream",
     "text": [
      "0.00558147311022\n"
     ]
    }
   ],
   "source": [
    "error_id3 = zero_one_loss(test_y, pred_y)\n",
    "print(error_id3)"
   ]
  },
  {
   "cell_type": "markdown",
   "metadata": {},
   "source": [
    "### ACCURACY SCORE FOR ID3"
   ]
  },
  {
   "cell_type": "code",
   "execution_count": 8,
   "metadata": {},
   "outputs": [
    {
     "name": "stdout",
     "output_type": "stream",
     "text": [
      "0.99441852689\n"
     ]
    }
   ],
   "source": [
    "accuracy_id3=accuracy_score(test_y,pred_y)\n",
    "print(accuracy_id3)"
   ]
  },
  {
   "cell_type": "markdown",
   "metadata": {},
   "source": [
    "### REPORT MATRIX FOR ID3"
   ]
  },
  {
   "cell_type": "code",
   "execution_count": 9,
   "metadata": {},
   "outputs": [
    {
     "name": "stdout",
     "output_type": "stream",
     "text": [
      "             precision    recall  f1-score   support\n",
      "\n",
      "          2       1.00      0.99      1.00    223298\n",
      "          3       0.06      0.05      0.05        39\n",
      "          4       0.99      0.99      0.99     87692\n",
      "\n",
      "avg / total       0.99      0.99      0.99    311029\n",
      "\n"
     ]
    }
   ],
   "source": [
    "report_id3=classification_report(test_y,pred_y)\n",
    "print(report_id3)"
   ]
  }
 ],
 "metadata": {
  "kernelspec": {
   "display_name": "Python 3",
   "language": "python",
   "name": "python3"
  },
  "language_info": {
   "codemirror_mode": {
    "name": "ipython",
    "version": 3
   },
   "file_extension": ".py",
   "mimetype": "text/x-python",
   "name": "python",
   "nbconvert_exporter": "python",
   "pygments_lexer": "ipython3",
   "version": "3.6.5"
  }
 },
 "nbformat": 4,
 "nbformat_minor": 2
}
